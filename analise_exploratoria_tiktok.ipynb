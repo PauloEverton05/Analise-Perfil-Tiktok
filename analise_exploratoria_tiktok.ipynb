{
 "cells": [
  {
   "cell_type": "markdown",
   "id": "85f95b71",
   "metadata": {},
   "source": [
    "# 📊 Análise Exploratória de Dados (TikTok)\n",
    "Autor: **Paulo Everton**\n",
    "\n",
    "Explorar o dataset dos arquivos do meu perfil pessoal no tiktok."
   ]
  },
  {
   "cell_type": "code",
   "execution_count": null,
   "id": "161a1bbe",
   "metadata": {},
   "outputs": [],
   "source": [
    "import pandas as pd\n",
    "import numpy as np\n",
    "import matplotlib.pyplot as plt\n",
    "import seaborn as sns\n",
    "from datetime import datetime"
   ]
  },
  {
   "cell_type": "code",
   "execution_count": null,
   "id": "c74c3841",
   "metadata": {},
   "outputs": [],
   "source": [
    "df_tiktok = pd.read_csv(\"dataset/Overview.csv\", encoding=\"utf-8-sig\")"
   ]
  },
  {
   "cell_type": "code",
   "execution_count": null,
   "id": "2bf7dfb0",
   "metadata": {},
   "outputs": [],
   "source": [
    "print(\"Primeiras linhas do dataset:\")\n",
    "display(df_tiktok.head())\n",
    "\n",
    "print(\"Últimas linhas do dataset:\")\n",
    "display(df_tiktok.tail())\n",
    "\n",
    "print(\"\\nInformações gerais sobre o dataset:\")\n",
    "print(df_tiktok.info())\n",
    "\n",
    "print(\"\\nQuantidade de linhas e colunas (shape):\")\n",
    "print(df_tiktok.shape)"
   ]
  },
  {
   "cell_type": "code",
   "execution_count": null,
   "id": "d7f263c8",
   "metadata": {},
   "outputs": [],
   "source": [
    "print(\"Estatísticas descritivas das colunas numéricas:\")\n",
    "display(df_tiktok.describe())"
   ]
  },
  {
   "cell_type": "code",
   "execution_count": null,
   "id": "214c3513",
   "metadata": {},
   "outputs": [],
   "source": [
    "print(\"Quantidade de valores nulos por coluna:\")\n",
    "print(df_tiktok.isnull().sum())\n",
    "\n",
    "print(\"\\nPercentual de valores nulos (%):\")\n",
    "print((df_tiktok.isnull().sum() / len(df_tiktok) * 100).round(2))"
   ]
  },
  {
   "cell_type": "code",
   "execution_count": null,
   "id": "199a3ab3",
   "metadata": {},
   "outputs": [],
   "source": [
    "#tentando converter colunas que pareçam datas\n",
    "for col in df_tiktok.columns:\n",
    "    if \"Date\" in col:\n",
    "        df_tiktok[col] = pd.to_datetime(df_tiktok[col], errors='coerce')\n",
    "\n",
    "print(\"Tipos de dados das colunas:\")\n",
    "print(df_tiktok.dtypes)"
   ]
  },
  {
   "cell_type": "code",
   "execution_count": null,
   "id": "9f514991",
   "metadata": {},
   "outputs": [],
   "source": [
    "print('Total de curtidas:', df_tiktok['Likes'].sum())\n",
    "print('Total de comentários:', df_tiktok['Comments'].sum())\n",
    "print('Total de compartilhamentos:', df_tiktok['Shares'].sum())\n",
    "print('Total de visualizações em vídeos:', df_tiktok['Video Views'].sum())\n",
    "print('Total de visualizações no perfil:', df_tiktok['Profile Views'].sum())"
   ]
  },
  {
   "cell_type": "code",
   "execution_count": null,
   "id": "19bc0926",
   "metadata": {},
   "outputs": [],
   "source": [
    "df_likes = df_tiktok['Likes'].sum()\n",
    "df_comments = df_tiktok['Comments'].sum()\n",
    "df_shares = df_tiktok['Shares'].sum()\n",
    "df_video = df_tiktok['Video Views'].sum()\n",
    "df_profile = df_tiktok['Profile Views'].sum()\n",
    "\n",
    "dados = {\n",
    "    'Likes': df_likes,\n",
    "    'Comments': df_comments,\n",
    "    'Shares': df_shares,\n",
    "    'Video Views': df_video,\n",
    "    'Profile Views': df_profile\n",
    "}\n",
    "\n",
    "plt.figure(figsize=(10, 6))\n",
    "\n",
    "barras = plt.barh(list(dados.keys()), list(dados.values()), color=sns.color_palette('husl'))\n",
    "\n",
    "for barra in barras:\n",
    "    plt.text(barra.get_width() + max(dados.values()) * 0.01,\n",
    "             barra.get_y() + barra.get_height() / 2,\n",
    "             f'{int(barra.get_width()):,}',\n",
    "             va='center', fontsize=10)\n",
    "    \n",
    "plt.title('Desempenho Total no TikTok', fontsize=14, fontweight='bold')\n",
    "plt.xlabel('Quantidade Total', fontsize=12)\n",
    "plt.ylabel('Métrica', fontsize=12)\n",
    "plt.box(False)\n",
    "plt.tight_layout()\n",
    "plt.show()"
   ]
  },
  {
   "cell_type": "code",
   "execution_count": null,
   "id": "5af37e5e",
   "metadata": {},
   "outputs": [],
   "source": [
    "print(\"Quantidade de valores únicos por coluna:\")\n",
    "for col in df_tiktok.columns:\n",
    "    print(f\"{col}: {df_tiktok[col].nunique()} valores únicos\")"
   ]
  },
  {
   "cell_type": "code",
   "execution_count": null,
   "id": "bbfc3554",
   "metadata": {},
   "outputs": [],
   "source": [
    "df_formated = df_tiktok[['Video Views', 'Profile Views', 'Likes', 'Comments', 'Shares']]\n",
    "\n",
    "df_formated.hist(figsize=(12,8), bins=20)\n",
    "plt.suptitle(\"Distribuição das Variáveis Numéricas\", fontsize=14)\n",
    "plt.tight_layout()\n",
    "plt.show()"
   ]
  },
  {
   "cell_type": "code",
   "execution_count": null,
   "id": "254761d4",
   "metadata": {},
   "outputs": [],
   "source": [
    "plt.figure(figsize=(10,6))\n",
    "sns.heatmap(df_tiktok.corr(numeric_only=True), annot=True, cmap='coolwarm', fmt=\".2f\")\n",
    "plt.title(\"Matriz de Correlação entre as Variáveis Numéricas\")\n",
    "plt.show()"
   ]
  },
  {
   "cell_type": "code",
   "execution_count": null,
   "id": "ecd40500",
   "metadata": {},
   "outputs": [],
   "source": [
    "for col in df_tiktok.select_dtypes(include='number'):\n",
    "    plt.figure(figsize=(5, 3))\n",
    "    sns.boxplot(x=df_tiktok[col])\n",
    "    plt.title(f'Boxplot da coluna: {col}')\n",
    "    plt.tight_layout()\n",
    "    plt.show()"
   ]
  },
  {
   "cell_type": "code",
   "execution_count": null,
   "id": "2e71b4ac",
   "metadata": {},
   "outputs": [],
   "source": [
    "df_tiktok['Date'] = pd.to_datetime(df_tiktok['Date'])"
   ]
  },
  {
   "cell_type": "code",
   "execution_count": null,
   "id": "85d00113",
   "metadata": {},
   "outputs": [],
   "source": [
    "df_tiktok['Engajamento Total'] = df_tiktok['Likes'] + df_tiktok['Comments'] + df_tiktok['Shares']\n",
    "df_tiktok['Taxa de Engajamento'] = df_tiktok['Engajamento Total'] / df_tiktok['Video Views'].replace(0, np.nan)\n",
    "df_tiktok['Taxa de Visita ao Perfil'] = df_tiktok['Profile Views'] / df_tiktok['Video Views'].replace(0, np.nan)\n",
    "df_tiktok['Taxa de Compartilhamento'] = df_tiktok['Shares'] / df_tiktok['Video Views'].replace(0, np.nan)"
   ]
  },
  {
   "cell_type": "code",
   "execution_count": null,
   "id": "04234dd8",
   "metadata": {},
   "outputs": [],
   "source": [
    "dias_sem_engajamento = (df_tiktok['Engajamento Total'] == 0).sum()\n",
    "print(f\"Dias sem engajamento: {dias_sem_engajamento}\")"
   ]
  },
  {
   "cell_type": "code",
   "execution_count": null,
   "id": "83726b0f",
   "metadata": {},
   "outputs": [],
   "source": [
    "df_tiktok = df_tiktok.sort_values('Date')\n",
    "\n",
    "df_continuo = df_tiktok.set_index('Date').asfreq('D').fillna(0)\n",
    "\n",
    "plt.figure(figsize=(12,6))\n",
    "plt.plot(df_continuo.index, df_continuo['Video Views'], label='Visualizações de Vídeo')\n",
    "plt.plot(df_continuo.index, df_continuo['Engajamento Total'], label='Engajamento Total')\n",
    "plt.title('Visualizações e Engajamento ao Longo do Ano (Eixo Contínuo)')\n",
    "plt.xlabel('Data')\n",
    "plt.ylabel('Quantidade')\n",
    "plt.legend()\n",
    "plt.show()\n"
   ]
  },
  {
   "cell_type": "code",
   "execution_count": null,
   "id": "940eb489",
   "metadata": {},
   "outputs": [],
   "source": [
    "df_weekly = df_tiktok.set_index('Date').resample('W').mean(numeric_only=True)\n",
    "\n",
    "plt.figure(figsize=(12,6))\n",
    "plt.plot(df_weekly.index, df_weekly['Video Views'], label='Visualizações de Vídeo')\n",
    "plt.plot(df_weekly.index, df_weekly['Engajamento Total'], label='Engajamento Total')\n",
    "plt.title('Média Semanal - Visualizações e Engajamento')\n",
    "plt.legend()\n",
    "plt.show()"
   ]
  },
  {
   "cell_type": "code",
   "execution_count": null,
   "id": "e28a3168",
   "metadata": {},
   "outputs": [],
   "source": [
    "df_growth = df_tiktok.set_index('Date')[['Video Views', 'Likes', 'Comments', 'Shares']].pct_change()\n",
    "\n",
    "plt.figure(figsize=(15, 6))\n",
    "\n",
    "for coluna in df_growth.columns:\n",
    "    plt.plot(df_growth.index, df_growth[coluna], marker='o', linewidth=2, label=coluna)\n",
    "    plt.fill_between(df_growth.index, df_growth[coluna], alpha=0.2)\n",
    "\n",
    "plt.title('Taxa de Crescimento Diário (%) — Dados Filtrados', fontsize=14, fontweight='bold')\n",
    "plt.xlabel('Data', fontweight='bold')\n",
    "plt.ylabel('% de Variação', fontweight='bold')\n",
    "plt.grid(True, alpha=0.3)\n",
    "plt.xticks(rotation=45)\n",
    "plt.legend(title='Métricas', fontsize=10)\n",
    "plt.tight_layout()\n",
    "\n",
    "plt.show()"
   ]
  },
  {
   "cell_type": "code",
   "execution_count": null,
   "id": "ac32c011",
   "metadata": {},
   "outputs": [],
   "source": [
    "df_tiktok['weekday_num'] = df_tiktok['Date'].dt.weekday  #0 = Monday, 6 = Sunday\n",
    "df_tiktok['day_name'] = df_tiktok['Date'].dt.day_name()  #nome do dia no idioma do ambiente\n",
    "\n",
    "# Ordena os nomes dos dias pelo número do weekday\n",
    "ordered_days = df_tiktok[['weekday_num', 'day_name']].drop_duplicates().sort_values('weekday_num')['day_name'].tolist()\n",
    "\n",
    "plt.figure(figsize=(10,6))\n",
    "sns.boxplot(x='day_name', y='Engajamento Total', data=df_tiktok, order=ordered_days)\n",
    "plt.title('Engajamento Total por Dia da Semana')\n",
    "plt.xticks(rotation=45)\n",
    "plt.show()"
   ]
  },
  {
   "cell_type": "code",
   "execution_count": null,
   "id": "f01e5919",
   "metadata": {},
   "outputs": [],
   "source": [
    "df_tiktok['Engajamento Relativo (%)'] = (\n",
    "    df_tiktok['Engajamento Total'] / df_tiktok['Engajamento Total'].mean()\n",
    ") * 100\n",
    "\n",
    "plt.figure(figsize=(12,5))\n",
    "plt.plot(df_tiktok['Date'], df_tiktok['Engajamento Relativo (%)'])\n",
    "plt.axhline(100, color='red', linestyle='--', label='Média')\n",
    "plt.title('Engajamento Relativo Diário (%)')\n",
    "plt.legend()\n",
    "plt.show()"
   ]
  },
  {
   "cell_type": "code",
   "execution_count": null,
   "id": "768ed80e",
   "metadata": {},
   "outputs": [],
   "source": [
    "df_tiktok['Média Móvel Engajamento (7d)'] = df_tiktok['Engajamento Total'].rolling(window=7).mean()\n",
    "df_tiktok['Média Móvel Visualizações (7d)'] = df_tiktok['Video Views'].rolling(window=7).mean()\n",
    "\n",
    "plt.figure(figsize=(12,6))\n",
    "plt.plot(df_tiktok['Date'], df_tiktok['Média Móvel Engajamento (7d)'], label='Engajamento (7 dias)')\n",
    "plt.plot(df_tiktok['Date'], df_tiktok['Média Móvel Visualizações (7d)'], label='Visualizações (7 dias)')\n",
    "plt.title('Médias Móveis de Engajamento e Visualizações (7 dias)')\n",
    "plt.legend()\n",
    "plt.show()"
   ]
  },
  {
   "cell_type": "code",
   "execution_count": null,
   "id": "55fac888",
   "metadata": {},
   "outputs": [],
   "source": [
    "df_tiktok['Crescimento Acumulado Views (%)'] = (\n",
    "    df_tiktok['Video Views'].cumsum() / df_tiktok['Video Views'].sum()\n",
    ") * 100\n",
    "\n",
    "plt.figure(figsize=(10,5))\n",
    "plt.plot(df_tiktok['Date'], df_tiktok['Crescimento Acumulado Views (%)'])\n",
    "plt.title('Crescimento Acumulado das Visualizações (%)')\n",
    "plt.ylabel('% Acumulado')\n",
    "plt.show()"
   ]
  }
 ],
 "metadata": {
  "kernelspec": {
   "display_name": ".venv",
   "language": "python",
   "name": "python3"
  },
  "language_info": {
   "codemirror_mode": {
    "name": "ipython",
    "version": 3
   },
   "file_extension": ".py",
   "mimetype": "text/x-python",
   "name": "python",
   "nbconvert_exporter": "python",
   "pygments_lexer": "ipython3",
   "version": "3.14.0"
  }
 },
 "nbformat": 4,
 "nbformat_minor": 5
}
